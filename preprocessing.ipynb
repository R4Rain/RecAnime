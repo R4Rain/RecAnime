{
 "cells": [
  {
   "attachments": {},
   "cell_type": "markdown",
   "metadata": {},
   "source": [
    "Data preprocessing"
   ]
  },
  {
   "cell_type": "code",
   "execution_count": 30,
   "metadata": {},
   "outputs": [],
   "source": [
    "import pandas as pd\n",
    "import re\n",
    "import nltk\n",
    "from nltk.stem import WordNetLemmatizer\n",
    "from nltk.corpus import stopwords"
   ]
  },
  {
   "cell_type": "code",
   "execution_count": 31,
   "metadata": {},
   "outputs": [
    {
     "name": "stderr",
     "output_type": "stream",
     "text": [
      "[nltk_data] Downloading package punkt to\n",
      "[nltk_data]     C:\\Users\\ASUS\\AppData\\Roaming\\nltk_data...\n",
      "[nltk_data]   Package punkt is already up-to-date!\n",
      "[nltk_data] Downloading package stopwords to\n",
      "[nltk_data]     C:\\Users\\ASUS\\AppData\\Roaming\\nltk_data...\n",
      "[nltk_data]   Package stopwords is already up-to-date!\n",
      "[nltk_data] Downloading package wordnet to\n",
      "[nltk_data]     C:\\Users\\ASUS\\AppData\\Roaming\\nltk_data...\n",
      "[nltk_data]   Package wordnet is already up-to-date!\n"
     ]
    },
    {
     "data": {
      "text/plain": [
       "True"
      ]
     },
     "execution_count": 31,
     "metadata": {},
     "output_type": "execute_result"
    }
   ],
   "source": [
    "# download the necessary nltk resources\n",
    "nltk.download('punkt')\n",
    "nltk.download('stopwords')\n",
    "nltk.download('wordnet')"
   ]
  },
  {
   "cell_type": "code",
   "execution_count": 32,
   "metadata": {},
   "outputs": [
    {
     "data": {
      "text/html": [
       "<div>\n",
       "<style scoped>\n",
       "    .dataframe tbody tr th:only-of-type {\n",
       "        vertical-align: middle;\n",
       "    }\n",
       "\n",
       "    .dataframe tbody tr th {\n",
       "        vertical-align: top;\n",
       "    }\n",
       "\n",
       "    .dataframe thead th {\n",
       "        text-align: right;\n",
       "    }\n",
       "</style>\n",
       "<table border=\"1\" class=\"dataframe\">\n",
       "  <thead>\n",
       "    <tr style=\"text-align: right;\">\n",
       "      <th></th>\n",
       "      <th>mal_id</th>\n",
       "      <th>title</th>\n",
       "      <th>type</th>\n",
       "      <th>score</th>\n",
       "      <th>scored_by</th>\n",
       "      <th>status</th>\n",
       "      <th>episodes</th>\n",
       "      <th>aired_from</th>\n",
       "      <th>aired_to</th>\n",
       "      <th>source</th>\n",
       "      <th>...</th>\n",
       "      <th>producers</th>\n",
       "      <th>licensors</th>\n",
       "      <th>synopsis</th>\n",
       "      <th>background</th>\n",
       "      <th>main_picture</th>\n",
       "      <th>url</th>\n",
       "      <th>trailer_url</th>\n",
       "      <th>title_english</th>\n",
       "      <th>title_japanese</th>\n",
       "      <th>title_synonyms</th>\n",
       "    </tr>\n",
       "  </thead>\n",
       "  <tbody>\n",
       "    <tr>\n",
       "      <th>0</th>\n",
       "      <td>5114</td>\n",
       "      <td>Fullmetal Alchemist: Brotherhood</td>\n",
       "      <td>TV</td>\n",
       "      <td>9.13</td>\n",
       "      <td>1867867.0</td>\n",
       "      <td>Finished Airing</td>\n",
       "      <td>64.0</td>\n",
       "      <td>2009-04-05</td>\n",
       "      <td>2010-07-04</td>\n",
       "      <td>Manga</td>\n",
       "      <td>...</td>\n",
       "      <td>['Aniplex', 'Square Enix', 'Mainichi Broadcast...</td>\n",
       "      <td>['Funimation', 'Aniplex of America']</td>\n",
       "      <td>After a horrific alchemy experiment goes wrong...</td>\n",
       "      <td>NaN</td>\n",
       "      <td>https://cdn.myanimelist.net/images/anime/1223/...</td>\n",
       "      <td>https://myanimelist.net/anime/5114/Fullmetal_A...</td>\n",
       "      <td>https://www.youtube.com/watch?v=--IcmZkvL0Q</td>\n",
       "      <td>Fullmetal Alchemist: Brotherhood</td>\n",
       "      <td>鋼の錬金術師 FULLMETAL ALCHEMIST</td>\n",
       "      <td>['Hagane no Renkinjutsushi: Fullmetal Alchemis...</td>\n",
       "    </tr>\n",
       "    <tr>\n",
       "      <th>1</th>\n",
       "      <td>11061</td>\n",
       "      <td>Hunter x Hunter (2011)</td>\n",
       "      <td>TV</td>\n",
       "      <td>9.05</td>\n",
       "      <td>1505975.0</td>\n",
       "      <td>Finished Airing</td>\n",
       "      <td>148.0</td>\n",
       "      <td>2011-10-02</td>\n",
       "      <td>2014-09-24</td>\n",
       "      <td>Manga</td>\n",
       "      <td>...</td>\n",
       "      <td>['VAP', 'Nippon Television Network', 'Shueisha']</td>\n",
       "      <td>['VIZ Media']</td>\n",
       "      <td>Hunters devote themselves to accomplishing haz...</td>\n",
       "      <td>NaN</td>\n",
       "      <td>https://cdn.myanimelist.net/images/anime/1337/...</td>\n",
       "      <td>https://myanimelist.net/anime/11061/Hunter_x_H...</td>\n",
       "      <td>https://www.youtube.com/watch?v=D9iTQRB4XRk</td>\n",
       "      <td>Hunter x Hunter</td>\n",
       "      <td>HUNTER×HUNTER（ハンター×ハンター）</td>\n",
       "      <td>['HxH (2011)']</td>\n",
       "    </tr>\n",
       "  </tbody>\n",
       "</table>\n",
       "<p>2 rows × 34 columns</p>\n",
       "</div>"
      ],
      "text/plain": [
       "   mal_id                             title type  score  scored_by   \n",
       "0    5114  Fullmetal Alchemist: Brotherhood   TV   9.13  1867867.0  \\\n",
       "1   11061            Hunter x Hunter (2011)   TV   9.05  1505975.0   \n",
       "\n",
       "            status  episodes  aired_from    aired_to source  ...   \n",
       "0  Finished Airing      64.0  2009-04-05  2010-07-04  Manga  ...  \\\n",
       "1  Finished Airing     148.0  2011-10-02  2014-09-24  Manga  ...   \n",
       "\n",
       "                                           producers   \n",
       "0  ['Aniplex', 'Square Enix', 'Mainichi Broadcast...  \\\n",
       "1   ['VAP', 'Nippon Television Network', 'Shueisha']   \n",
       "\n",
       "                              licensors   \n",
       "0  ['Funimation', 'Aniplex of America']  \\\n",
       "1                         ['VIZ Media']   \n",
       "\n",
       "                                            synopsis background   \n",
       "0  After a horrific alchemy experiment goes wrong...        NaN  \\\n",
       "1  Hunters devote themselves to accomplishing haz...        NaN   \n",
       "\n",
       "                                        main_picture   \n",
       "0  https://cdn.myanimelist.net/images/anime/1223/...  \\\n",
       "1  https://cdn.myanimelist.net/images/anime/1337/...   \n",
       "\n",
       "                                                 url   \n",
       "0  https://myanimelist.net/anime/5114/Fullmetal_A...  \\\n",
       "1  https://myanimelist.net/anime/11061/Hunter_x_H...   \n",
       "\n",
       "                                   trailer_url   \n",
       "0  https://www.youtube.com/watch?v=--IcmZkvL0Q  \\\n",
       "1  https://www.youtube.com/watch?v=D9iTQRB4XRk   \n",
       "\n",
       "                      title_english              title_japanese   \n",
       "0  Fullmetal Alchemist: Brotherhood  鋼の錬金術師 FULLMETAL ALCHEMIST  \\\n",
       "1                   Hunter x Hunter    HUNTER×HUNTER（ハンター×ハンター）   \n",
       "\n",
       "                                      title_synonyms  \n",
       "0  ['Hagane no Renkinjutsushi: Fullmetal Alchemis...  \n",
       "1                                     ['HxH (2011)']  \n",
       "\n",
       "[2 rows x 34 columns]"
      ]
     },
     "execution_count": 32,
     "metadata": {},
     "output_type": "execute_result"
    }
   ],
   "source": [
    "raw_data = pd.read_csv(\"data/anime.csv\")\n",
    "raw_data.head(2)"
   ]
  },
  {
   "cell_type": "code",
   "execution_count": 33,
   "metadata": {},
   "outputs": [
    {
     "data": {
      "text/plain": [
       "(14262, 22)"
      ]
     },
     "execution_count": 33,
     "metadata": {},
     "output_type": "execute_result"
    }
   ],
   "source": [
    "# Remove unused information\n",
    "raw_data = raw_data.drop(['pending_approval', 'title_japanese', 'title_synonyms', 'trailer_url', 'background', \n",
    "                          'broadcast_time', 'broadcast_day', 'nsfw', 'premiered_season', 'premiered_year', 'aired_from',\n",
    "                          'aired_to'], axis=1)\n",
    "# Remove rows with N.A score, type, english title\n",
    "raw_data = raw_data.dropna(subset=['score', 'type', 'title_english'])\n",
    "raw_data.shape"
   ]
  },
  {
   "cell_type": "code",
   "execution_count": 34,
   "metadata": {},
   "outputs": [
    {
     "data": {
      "text/plain": [
       "mal_id              0\n",
       "title               0\n",
       "type                0\n",
       "score               0\n",
       "scored_by           0\n",
       "status              0\n",
       "episodes           91\n",
       "source           1760\n",
       "members             0\n",
       "favorites           0\n",
       "duration           20\n",
       "rating             95\n",
       "genres              0\n",
       "themes              0\n",
       "demographics        0\n",
       "studios             0\n",
       "producers           0\n",
       "licensors           0\n",
       "synopsis          389\n",
       "main_picture        5\n",
       "url                 0\n",
       "title_english    7136\n",
       "dtype: int64"
      ]
     },
     "execution_count": 34,
     "metadata": {},
     "output_type": "execute_result"
    }
   ],
   "source": [
    "raw_data.isna().sum()"
   ]
  },
  {
   "cell_type": "code",
   "execution_count": 35,
   "metadata": {},
   "outputs": [],
   "source": [
    "# Preprocessing array text\n",
    "# preprocessing process: \"['text', 'text', 'text']\" -> \"text,text,text\"\n",
    "list_columns = ['genres', 'themes', 'producers', 'licensors', 'demographics', 'studios']\n",
    "\n",
    "def process_text_array(text):\n",
    "    words = text.split(',')\n",
    "    text_array = []\n",
    "    for word in words:\n",
    "        word = re.sub(r\"[\\[\\],\\'\\\"]\",\"\", word)\n",
    "        word = word.strip()\n",
    "        if len(word) != 0:\n",
    "            text_array.append(word)\n",
    "    return (\",\").join(text_array)\n",
    "\n",
    "for column in list_columns:\n",
    "    raw_data[column] = raw_data[column].apply(lambda x: process_text_array(x))"
   ]
  },
  {
   "cell_type": "code",
   "execution_count": 36,
   "metadata": {},
   "outputs": [
    {
     "data": {
      "text/html": [
       "<div>\n",
       "<style scoped>\n",
       "    .dataframe tbody tr th:only-of-type {\n",
       "        vertical-align: middle;\n",
       "    }\n",
       "\n",
       "    .dataframe tbody tr th {\n",
       "        vertical-align: top;\n",
       "    }\n",
       "\n",
       "    .dataframe thead th {\n",
       "        text-align: right;\n",
       "    }\n",
       "</style>\n",
       "<table border=\"1\" class=\"dataframe\">\n",
       "  <thead>\n",
       "    <tr style=\"text-align: right;\">\n",
       "      <th></th>\n",
       "      <th>mal_id</th>\n",
       "      <th>title</th>\n",
       "      <th>type</th>\n",
       "      <th>score</th>\n",
       "      <th>scored_by</th>\n",
       "      <th>status</th>\n",
       "      <th>episodes</th>\n",
       "      <th>source</th>\n",
       "      <th>members</th>\n",
       "      <th>favorites</th>\n",
       "      <th>...</th>\n",
       "      <th>genres</th>\n",
       "      <th>themes</th>\n",
       "      <th>demographics</th>\n",
       "      <th>studios</th>\n",
       "      <th>producers</th>\n",
       "      <th>licensors</th>\n",
       "      <th>synopsis</th>\n",
       "      <th>main_picture</th>\n",
       "      <th>url</th>\n",
       "      <th>title_english</th>\n",
       "    </tr>\n",
       "  </thead>\n",
       "  <tbody>\n",
       "    <tr>\n",
       "      <th>0</th>\n",
       "      <td>5114</td>\n",
       "      <td>Fullmetal Alchemist: Brotherhood</td>\n",
       "      <td>TV</td>\n",
       "      <td>9.13</td>\n",
       "      <td>1867867.0</td>\n",
       "      <td>Finished Airing</td>\n",
       "      <td>64.0</td>\n",
       "      <td>Manga</td>\n",
       "      <td>2926579</td>\n",
       "      <td>204314</td>\n",
       "      <td>...</td>\n",
       "      <td>Action,Adventure,Drama,Fantasy</td>\n",
       "      <td>Military</td>\n",
       "      <td>Shounen</td>\n",
       "      <td>Bones</td>\n",
       "      <td>Aniplex,Square Enix,Mainichi Broadcasting Syst...</td>\n",
       "      <td>Funimation,Aniplex of America</td>\n",
       "      <td>After a horrific alchemy experiment goes wrong...</td>\n",
       "      <td>https://cdn.myanimelist.net/images/anime/1223/...</td>\n",
       "      <td>https://myanimelist.net/anime/5114/Fullmetal_A...</td>\n",
       "      <td>Fullmetal Alchemist: Brotherhood</td>\n",
       "    </tr>\n",
       "    <tr>\n",
       "      <th>1</th>\n",
       "      <td>11061</td>\n",
       "      <td>Hunter x Hunter (2011)</td>\n",
       "      <td>TV</td>\n",
       "      <td>9.05</td>\n",
       "      <td>1505975.0</td>\n",
       "      <td>Finished Airing</td>\n",
       "      <td>148.0</td>\n",
       "      <td>Manga</td>\n",
       "      <td>2413361</td>\n",
       "      <td>184766</td>\n",
       "      <td>...</td>\n",
       "      <td>Action,Adventure,Fantasy</td>\n",
       "      <td></td>\n",
       "      <td>Shounen</td>\n",
       "      <td>Madhouse</td>\n",
       "      <td>VAP,Nippon Television Network,Shueisha</td>\n",
       "      <td>VIZ Media</td>\n",
       "      <td>Hunters devote themselves to accomplishing haz...</td>\n",
       "      <td>https://cdn.myanimelist.net/images/anime/1337/...</td>\n",
       "      <td>https://myanimelist.net/anime/11061/Hunter_x_H...</td>\n",
       "      <td>Hunter x Hunter</td>\n",
       "    </tr>\n",
       "  </tbody>\n",
       "</table>\n",
       "<p>2 rows × 22 columns</p>\n",
       "</div>"
      ],
      "text/plain": [
       "   mal_id                             title type  score  scored_by   \n",
       "0    5114  Fullmetal Alchemist: Brotherhood   TV   9.13  1867867.0  \\\n",
       "1   11061            Hunter x Hunter (2011)   TV   9.05  1505975.0   \n",
       "\n",
       "            status  episodes source  members  favorites  ...   \n",
       "0  Finished Airing      64.0  Manga  2926579     204314  ...  \\\n",
       "1  Finished Airing     148.0  Manga  2413361     184766  ...   \n",
       "\n",
       "                           genres    themes demographics   studios   \n",
       "0  Action,Adventure,Drama,Fantasy  Military      Shounen     Bones  \\\n",
       "1        Action,Adventure,Fantasy                Shounen  Madhouse   \n",
       "\n",
       "                                           producers   \n",
       "0  Aniplex,Square Enix,Mainichi Broadcasting Syst...  \\\n",
       "1             VAP,Nippon Television Network,Shueisha   \n",
       "\n",
       "                       licensors   \n",
       "0  Funimation,Aniplex of America  \\\n",
       "1                      VIZ Media   \n",
       "\n",
       "                                            synopsis   \n",
       "0  After a horrific alchemy experiment goes wrong...  \\\n",
       "1  Hunters devote themselves to accomplishing haz...   \n",
       "\n",
       "                                        main_picture   \n",
       "0  https://cdn.myanimelist.net/images/anime/1223/...  \\\n",
       "1  https://cdn.myanimelist.net/images/anime/1337/...   \n",
       "\n",
       "                                                 url   \n",
       "0  https://myanimelist.net/anime/5114/Fullmetal_A...  \\\n",
       "1  https://myanimelist.net/anime/11061/Hunter_x_H...   \n",
       "\n",
       "                      title_english  \n",
       "0  Fullmetal Alchemist: Brotherhood  \n",
       "1                   Hunter x Hunter  \n",
       "\n",
       "[2 rows x 22 columns]"
      ]
     },
     "execution_count": 36,
     "metadata": {},
     "output_type": "execute_result"
    }
   ],
   "source": [
    "raw_data.head(2)"
   ]
  },
  {
   "cell_type": "code",
   "execution_count": 37,
   "metadata": {},
   "outputs": [],
   "source": [
    "# I assuming that the episodes are not released yet\n",
    "raw_data['episodes'] = raw_data['episodes'].fillna(0)"
   ]
  },
  {
   "cell_type": "code",
   "execution_count": 38,
   "metadata": {},
   "outputs": [
    {
     "data": {
      "text/plain": [
       "array(['TV', 'Movie', 'OVA', 'Special', 'Music', 'ONA'], dtype=object)"
      ]
     },
     "execution_count": 38,
     "metadata": {},
     "output_type": "execute_result"
    }
   ],
   "source": [
    "raw_data['type'].unique()"
   ]
  },
  {
   "cell_type": "code",
   "execution_count": 39,
   "metadata": {},
   "outputs": [
    {
     "data": {
      "text/plain": [
       "(13158, 22)"
      ]
     },
     "execution_count": 39,
     "metadata": {},
     "output_type": "execute_result"
    }
   ],
   "source": [
    "# Remove 'music' type anime\n",
    "raw_data = raw_data[raw_data['type'] != 'Music']\n",
    "raw_data.shape"
   ]
  },
  {
   "cell_type": "code",
   "execution_count": 40,
   "metadata": {},
   "outputs": [
    {
     "data": {
      "text/plain": [
       "array(['R - 17+ (violence & profanity)', 'PG-13 - Teens 13 or older',\n",
       "       'PG - Children', 'G - All Ages', 'R+ - Mild Nudity', 'Rx - Hentai',\n",
       "       nan], dtype=object)"
      ]
     },
     "execution_count": 40,
     "metadata": {},
     "output_type": "execute_result"
    }
   ],
   "source": [
    "raw_data['rating'].unique()"
   ]
  },
  {
   "cell_type": "code",
   "execution_count": 41,
   "metadata": {},
   "outputs": [],
   "source": [
    "# Fill N.A rating with 'Unknown'\n",
    "raw_data['rating'] = raw_data['rating'].fillna(\"Unknown\")"
   ]
  },
  {
   "cell_type": "code",
   "execution_count": 42,
   "metadata": {},
   "outputs": [
    {
     "name": "stdout",
     "output_type": "stream",
     "text": [
      "Empty: 361\n"
     ]
    }
   ],
   "source": [
    "# There are 345 animes with empty synopsis, i think it is better to drop them\n",
    "print('Empty:', raw_data['synopsis'].isna().sum())\n",
    "# Drop rows with N.A synopsis\n",
    "raw_data = raw_data.dropna(subset=['synopsis'])"
   ]
  },
  {
   "cell_type": "code",
   "execution_count": 43,
   "metadata": {},
   "outputs": [
    {
     "data": {
      "text/plain": [
       "(12797, 22)"
      ]
     },
     "execution_count": 43,
     "metadata": {},
     "output_type": "execute_result"
    }
   ],
   "source": [
    "raw_data.shape"
   ]
  },
  {
   "cell_type": "code",
   "execution_count": 45,
   "metadata": {},
   "outputs": [
    {
     "data": {
      "text/plain": [
       "(12797, 22)"
      ]
     },
     "execution_count": 45,
     "metadata": {},
     "output_type": "execute_result"
    }
   ],
   "source": [
    "raw_data.shape"
   ]
  },
  {
   "cell_type": "code",
   "execution_count": 46,
   "metadata": {},
   "outputs": [],
   "source": [
    "# Create a new dataframe that contains english title (for entity extraction)\n",
    "stop = stopwords.words('english')\n",
    "lemmatizer = WordNetLemmatizer()\n",
    "def cleaning_text(text):\n",
    "    # Removing hypen with space\n",
    "    text = str(text)\n",
    "    text = re.sub(\"-\",' ', text)\n",
    "    # Removing punctuations\n",
    "    text = re.sub(r'[^\\w\\s]', ' ', text)\n",
    "    # Removing unicode characters, for example: Yugioh anime\n",
    "    text = re.sub(r'[^\\x00-\\x7F]+', ' ', text)\n",
    "    # Removing continous spaces\n",
    "    text = re.sub(r'\\s+', ' ', text)\n",
    "    # Remove leading spaces\n",
    "    text = text.strip()\n",
    "    # lowercase\n",
    "    text = text.lower()\n",
    "    return text\n",
    "\n",
    "def lemmatize(text):\n",
    "    text = cleaning_text(text)\n",
    "    words = nltk.word_tokenize(text)\n",
    "    words = [word for word in words if word not in stop]\n",
    "    lemmatizer = WordNetLemmatizer()\n",
    "    words = [lemmatizer.lemmatize(word) for word in words]\n",
    "    return ' '.join(words)\n",
    "\n",
    "raw_data['cleaned_synopsis'] = raw_data['synopsis'].apply(lambda x: lemmatize(x))\n",
    "raw_data['cleaned_title'] = raw_data['title'].apply(lambda x: cleaning_text(x))\n",
    "raw_data['cleaned_title_english'] = raw_data['title_english'].apply(lambda x: cleaning_text(x))\n",
    "\n",
    "# Remove rows with an empty string\n",
    "raw_data = raw_data[raw_data['cleaned_synopsis'] != \"\"]\n",
    "raw_data = raw_data[raw_data['cleaned_title'] != \"\"]\n",
    "raw_data = raw_data[raw_data['cleaned_title_english'] != \"\"]"
   ]
  },
  {
   "cell_type": "code",
   "execution_count": 47,
   "metadata": {},
   "outputs": [
    {
     "data": {
      "text/plain": [
       "(6720, 25)"
      ]
     },
     "execution_count": 47,
     "metadata": {},
     "output_type": "execute_result"
    }
   ],
   "source": [
    "raw_data.shape"
   ]
  },
  {
   "cell_type": "code",
   "execution_count": 48,
   "metadata": {},
   "outputs": [],
   "source": [
    "converted_genres = raw_data['genres'].str.replace(',', \" \")\n",
    "converted_themes = raw_data['themes'].str.replace(',', \" \")\n",
    "\n",
    "raw_data['description'] = converted_genres.str.cat(converted_themes, sep=\" \")\n",
    "raw_data['description'] = raw_data['description'].str.strip()\n",
    "raw_data['description'] = raw_data['description'].str.cat(raw_data['cleaned_synopsis'], sep=\" \")\n",
    "raw_data['description'] = raw_data['description'].str.strip()\n",
    "raw_data['description'] = raw_data['description'].str.lower()"
   ]
  },
  {
   "cell_type": "code",
   "execution_count": 49,
   "metadata": {},
   "outputs": [
    {
     "data": {
      "text/plain": [
       "'action adventure drama fantasy military horrific alchemy experiment go wrong elric household brother edward alphonse left catastrophic new reality ignoring alchemical principle banning human transmutation boy attempted bring recently deceased mother back life instead suffered brutal personal loss alphonse body disintegrated edward lost leg sacrificed arm keep alphonse soul physical realm binding hulking suit armor brother rescued neighbor pinako rockbell granddaughter winry known bio mechanical engineering prodigy winry creates prosthetic limb edward utilizing automail tough versatile metal used robot combat armor year training elric brother set quest restore body locating philosopher stone powerful gem allows alchemist defy traditional law equivalent exchange edward becomes infamous alchemist gain nickname fullmetal boy journey embroils growing conspiracy threatens fate world written mal rewrite'"
      ]
     },
     "execution_count": 49,
     "metadata": {},
     "output_type": "execute_result"
    }
   ],
   "source": [
    "raw_data['description'].head(1).values[0]"
   ]
  },
  {
   "cell_type": "code",
   "execution_count": 50,
   "metadata": {},
   "outputs": [
    {
     "data": {
      "text/plain": [
       "mal_id                     0\n",
       "title                      0\n",
       "type                       0\n",
       "score                      0\n",
       "scored_by                  0\n",
       "status                     0\n",
       "episodes                   0\n",
       "source                   660\n",
       "members                    0\n",
       "favorites                  0\n",
       "duration                   3\n",
       "rating                     0\n",
       "genres                     0\n",
       "themes                     0\n",
       "demographics               0\n",
       "studios                    0\n",
       "producers                  0\n",
       "licensors                  0\n",
       "synopsis                   0\n",
       "main_picture               0\n",
       "url                        0\n",
       "title_english              0\n",
       "cleaned_synopsis           0\n",
       "cleaned_title              0\n",
       "cleaned_title_english      0\n",
       "description                0\n",
       "dtype: int64"
      ]
     },
     "execution_count": 50,
     "metadata": {},
     "output_type": "execute_result"
    }
   ],
   "source": [
    "raw_data.isna().sum()"
   ]
  },
  {
   "cell_type": "code",
   "execution_count": 51,
   "metadata": {},
   "outputs": [
    {
     "data": {
      "text/plain": [
       "(6720, 26)"
      ]
     },
     "execution_count": 51,
     "metadata": {},
     "output_type": "execute_result"
    }
   ],
   "source": [
    "raw_data.shape"
   ]
  },
  {
   "cell_type": "code",
   "execution_count": 52,
   "metadata": {},
   "outputs": [],
   "source": [
    "raw_data.to_csv('./data/cleaned_anime.csv', encoding='utf-8', index=False)"
   ]
  }
 ],
 "metadata": {
  "kernelspec": {
   "display_name": "env",
   "language": "python",
   "name": "python3"
  },
  "language_info": {
   "codemirror_mode": {
    "name": "ipython",
    "version": 3
   },
   "file_extension": ".py",
   "mimetype": "text/x-python",
   "name": "python",
   "nbconvert_exporter": "python",
   "pygments_lexer": "ipython3",
   "version": "3.9.13"
  },
  "orig_nbformat": 4
 },
 "nbformat": 4,
 "nbformat_minor": 2
}
